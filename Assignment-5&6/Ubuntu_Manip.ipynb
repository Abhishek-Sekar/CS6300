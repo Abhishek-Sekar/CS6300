{
 "cells": [
  {
   "cell_type": "code",
   "execution_count": null,
   "metadata": {},
   "outputs": [],
   "source": [
    "import os as os #importing os\n",
    "\n",
    "master_dir = os.getcwd() #current working directory\n",
    "\n",
    "#iterate over the directories in the master_dir, that is the male/female speakers for instance\n",
    "\n",
    "for speaker in os.listdir(master_dir):\n",
    "    speaker_path = os.path.join(master_dir,speaker) #concatenation\n",
    "    if os.path.isdir(speaker_path): #if it's a directory\n",
    "        os.chdir(master_dir)\n",
    "        command_1 = \"mkdir \"+speaker+\"mfcc\"\n",
    "        os.system(command_1)\n",
    "        os.chdir(speaker)\n",
    "        command_2 = \"cp /home/abhishek/Speech_Tech/Ass5/min-tidigits/tidigits/FeatureExtraction/* ./\"\n",
    "        os.system(command_2)\n",
    "        for audio in os.listdir(speaker_path): #iterating over all the audio files of the speaker\n",
    "            #check if it is a file\n",
    "            audio_path = os.path.join(speaker_path,audio)\n",
    "            if os.path.isfile(audio_path):  # if the path directs to a file\n",
    "                if(audio[-4:] == \".wav\"):\n",
    "                    command_3 = \"./ComputeFeatures mfcc.config \"+audio+\" frameCepstrum+frameDeltaCepstrum ../\"+speaker+\"mfcc/\"+audio+\".mfcc 0.06 A\"\n",
    "                    os.system(command_3)\n",
    "            \n",
    "        \n",
    "\n",
    "            \n",
    "        \n",
    "\n",
    "\n"
   ]
  }
 ],
 "metadata": {
  "kernelspec": {
   "display_name": "Python 3",
   "language": "python",
   "name": "python3"
  },
  "language_info": {
   "codemirror_mode": {
    "name": "ipython",
    "version": 3
   },
   "file_extension": ".py",
   "mimetype": "text/x-python",
   "name": "python",
   "nbconvert_exporter": "python",
   "pygments_lexer": "ipython3",
   "version": "3.7.6"
  }
 },
 "nbformat": 4,
 "nbformat_minor": 4
}
